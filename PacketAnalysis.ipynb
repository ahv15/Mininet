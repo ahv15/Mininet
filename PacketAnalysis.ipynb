{
 "cells": [
  {
   "cell_type": "code",
   "execution_count": 1,
   "metadata": {},
   "outputs": [],
   "source": [
    "from scapy.all import *\n",
    "import pandas as pd\n",
    "import numpy as np\n",
    "import binascii\n",
    "import seaborn as sns"
   ]
  },
  {
   "cell_type": "code",
   "execution_count": 2,
   "metadata": {},
   "outputs": [],
   "source": [
    "applicationData = rdpcap(\"D:\\\\BotnetDetection\\\\isot_app_and_botnet_dataset\\\\application_data\\\\applicationDNS.pcap\")"
   ]
  },
  {
   "cell_type": "code",
   "execution_count": 3,
   "metadata": {},
   "outputs": [
    {
     "data": {
      "text/plain": [
       "<applicationDNS.pcap: TCP:0 UDP:652 ICMP:0 Other:430>"
      ]
     },
     "execution_count": 3,
     "metadata": {},
     "output_type": "execute_result"
    }
   ],
   "source": [
    "applicationData"
   ]
  },
  {
   "cell_type": "code",
   "execution_count": 4,
   "metadata": {},
   "outputs": [
    {
     "name": "stdout",
     "output_type": "stream",
     "text": [
      "Ether / IP / UDP / DNS Qry \"b'clients2.google.com.'\" \n",
      "IP / UDP / DNS Qry \"b'clients2.google.com.'\" \n",
      "UDP / DNS Qry \"b'clients2.google.com.'\" \n",
      "DNS Qry \"b'clients2.google.com.'\" \n",
      "###[ Ethernet ]### \n",
      "  dst       = 08:00:27:e8:fe:87\n",
      "  src       = 08:00:27:96:32:51\n",
      "  type      = IPv4\n",
      "###[ IP ]### \n",
      "     version   = 4\n",
      "     ihl       = 5\n",
      "     tos       = 0x0\n",
      "     len       = 65\n",
      "     id        = 1938\n",
      "     flags     = \n",
      "     frag      = 0\n",
      "     ttl       = 128\n",
      "     proto     = udp\n",
      "     chksum    = 0x4d3f\n",
      "     src       = 192.168.50.50\n",
      "     dst       = 192.168.50.88\n",
      "     \\options   \\\n",
      "###[ UDP ]### \n",
      "        sport     = 55066\n",
      "        dport     = domain\n",
      "        len       = 45\n",
      "        chksum    = 0xc381\n",
      "###[ DNS ]### \n",
      "           id        = 17701\n",
      "           qr        = 0\n",
      "           opcode    = QUERY\n",
      "           aa        = 0\n",
      "           tc        = 0\n",
      "           rd        = 1\n",
      "           ra        = 0\n",
      "           z         = 0\n",
      "           ad        = 0\n",
      "           cd        = 0\n",
      "           rcode     = ok\n",
      "           qdcount   = 1\n",
      "           ancount   = 0\n",
      "           nscount   = 0\n",
      "           arcount   = 0\n",
      "           \\qd        \\\n",
      "            |###[ DNS Question Record ]### \n",
      "            |  qname     = 'clients2.google.com.'\n",
      "            |  qtype     = A\n",
      "            |  qclass    = IN\n",
      "           an        = None\n",
      "           ns        = None\n",
      "           ar        = None\n",
      "\n"
     ]
    }
   ],
   "source": [
    "ethernet_frame = applicationData[23]\n",
    "ip_packet = ethernet_frame.payload\n",
    "segment = ip_packet.payload\n",
    "data = segment.payload\n",
    "print(ethernet_frame.summary())\n",
    "print(ip_packet.summary())\n",
    "print(segment.summary())\n",
    "print(data.summary())\n",
    "ethernet_frame.show()"
   ]
  },
  {
   "cell_type": "code",
   "execution_count": 5,
   "metadata": {},
   "outputs": [
    {
     "name": "stdout",
     "output_type": "stream",
     "text": [
      "\n"
     ]
    }
   ],
   "source": [
    "applicationData[23].pdfdump(layer_shift=1)"
   ]
  },
  {
   "cell_type": "code",
   "execution_count": 6,
   "metadata": {},
   "outputs": [
    {
     "name": "stdout",
     "output_type": "stream",
     "text": [
      "Ethernet <Ether from applicationDNS.pcap: TCP:0 UDP:652 ICMP:0 Other:430>\n",
      "IP <IP from applicationDNS.pcap: TCP:0 UDP:590 ICMP:0 Other:0>\n",
      "UDP <UDP from applicationDNS.pcap: TCP:0 UDP:652 ICMP:0 Other:0>\n"
     ]
    }
   ],
   "source": [
    "ethernet_type = type(ethernet_frame)\n",
    "ip_type = type(ip_packet)\n",
    "tcp_type = type(segment)\n",
    "print(\"Ethernet\",applicationData[ethernet_type])\n",
    "print(\"IP\", applicationData[ip_type])\n",
    "print(\"UDP\", applicationData[tcp_type])"
   ]
  },
  {
   "cell_type": "code",
   "execution_count": 7,
   "metadata": {},
   "outputs": [],
   "source": [
    "ip_fields = [field.name for field in IP().fields_desc]\n",
    "tcp_fields = [field.name for field in TCP().fields_desc]\n",
    "udp_fields = [field.name for field in UDP().fields_desc]\n",
    "dataframe_fields = ip_fields + ['time'] + tcp_fields + ['payload','payload_raw','payload_hex']\n",
    "df = pd.DataFrame(columns=dataframe_fields)\n",
    "for packet in applicationData[IP]:\n",
    "    field_values = []\n",
    "    for field in ip_fields:\n",
    "        if field == 'options':\n",
    "            field_values.append(len(packet[IP].fields[field]))\n",
    "        else:\n",
    "            field_values.append(packet[IP].fields[field])\n",
    "    field_values.append(packet.time)\n",
    "    layer_type = type(packet[IP].payload)\n",
    "    for field in tcp_fields:\n",
    "        try:\n",
    "            if field == 'options':\n",
    "                field_values.append(len(packet[layer_type].fields[field]))\n",
    "            else:\n",
    "                field_values.append(packet[layer_type].fields[field])\n",
    "        except:\n",
    "            field_values.append(None)\n",
    "    field_values.append(len(packet[layer_type].payload))\n",
    "    field_values.append(packet[layer_type].payload.original)\n",
    "    field_values.append(binascii.hexlify(packet[layer_type].payload.original))\n",
    "    df_append = pd.DataFrame([field_values], columns=dataframe_fields)\n",
    "    df = pd.concat([df, df_append], axis=0)\n",
    "df = df.reset_index()\n",
    "df = df.drop(columns=\"index\")"
   ]
  },
  {
   "cell_type": "code",
   "execution_count": 8,
   "metadata": {
    "scrolled": true
   },
   "outputs": [
    {
     "data": {
      "text/html": [
       "<div>\n",
       "<style scoped>\n",
       "    .dataframe tbody tr th:only-of-type {\n",
       "        vertical-align: middle;\n",
       "    }\n",
       "\n",
       "    .dataframe tbody tr th {\n",
       "        vertical-align: top;\n",
       "    }\n",
       "\n",
       "    .dataframe thead th {\n",
       "        text-align: right;\n",
       "    }\n",
       "</style>\n",
       "<table border=\"1\" class=\"dataframe\">\n",
       "  <thead>\n",
       "    <tr style=\"text-align: right;\">\n",
       "      <th></th>\n",
       "      <th>src</th>\n",
       "      <th>dst</th>\n",
       "      <th>sport</th>\n",
       "      <th>dport</th>\n",
       "    </tr>\n",
       "  </thead>\n",
       "  <tbody>\n",
       "    <tr>\n",
       "      <th>0</th>\n",
       "      <td>192.168.50.88</td>\n",
       "      <td>192.168.50.51</td>\n",
       "      <td>53</td>\n",
       "      <td>61485</td>\n",
       "    </tr>\n",
       "    <tr>\n",
       "      <th>1</th>\n",
       "      <td>192.168.50.19</td>\n",
       "      <td>192.168.50.88</td>\n",
       "      <td>60019</td>\n",
       "      <td>53</td>\n",
       "    </tr>\n",
       "    <tr>\n",
       "      <th>2</th>\n",
       "      <td>192.168.50.88</td>\n",
       "      <td>8.8.4.4</td>\n",
       "      <td>51316</td>\n",
       "      <td>53</td>\n",
       "    </tr>\n",
       "    <tr>\n",
       "      <th>3</th>\n",
       "      <td>192.168.50.51</td>\n",
       "      <td>192.168.50.88</td>\n",
       "      <td>55221</td>\n",
       "      <td>53</td>\n",
       "    </tr>\n",
       "    <tr>\n",
       "      <th>4</th>\n",
       "      <td>192.168.50.51</td>\n",
       "      <td>192.168.50.88</td>\n",
       "      <td>59936</td>\n",
       "      <td>53</td>\n",
       "    </tr>\n",
       "    <tr>\n",
       "      <th>...</th>\n",
       "      <td>...</td>\n",
       "      <td>...</td>\n",
       "      <td>...</td>\n",
       "      <td>...</td>\n",
       "    </tr>\n",
       "    <tr>\n",
       "      <th>585</th>\n",
       "      <td>192.168.50.51</td>\n",
       "      <td>192.168.50.255</td>\n",
       "      <td>137</td>\n",
       "      <td>137</td>\n",
       "    </tr>\n",
       "    <tr>\n",
       "      <th>586</th>\n",
       "      <td>192.168.50.19</td>\n",
       "      <td>192.168.50.88</td>\n",
       "      <td>62476</td>\n",
       "      <td>53</td>\n",
       "    </tr>\n",
       "    <tr>\n",
       "      <th>587</th>\n",
       "      <td>192.168.50.88</td>\n",
       "      <td>8.8.4.4</td>\n",
       "      <td>55706</td>\n",
       "      <td>53</td>\n",
       "    </tr>\n",
       "    <tr>\n",
       "      <th>588</th>\n",
       "      <td>192.168.50.51</td>\n",
       "      <td>192.168.50.255</td>\n",
       "      <td>137</td>\n",
       "      <td>137</td>\n",
       "    </tr>\n",
       "    <tr>\n",
       "      <th>589</th>\n",
       "      <td>192.168.50.88</td>\n",
       "      <td>8.8.4.4</td>\n",
       "      <td>37704</td>\n",
       "      <td>53</td>\n",
       "    </tr>\n",
       "  </tbody>\n",
       "</table>\n",
       "<p>590 rows × 4 columns</p>\n",
       "</div>"
      ],
      "text/plain": [
       "               src             dst  sport  dport\n",
       "0    192.168.50.88   192.168.50.51     53  61485\n",
       "1    192.168.50.19   192.168.50.88  60019     53\n",
       "2    192.168.50.88         8.8.4.4  51316     53\n",
       "3    192.168.50.51   192.168.50.88  55221     53\n",
       "4    192.168.50.51   192.168.50.88  59936     53\n",
       "..             ...             ...    ...    ...\n",
       "585  192.168.50.51  192.168.50.255    137    137\n",
       "586  192.168.50.19   192.168.50.88  62476     53\n",
       "587  192.168.50.88         8.8.4.4  55706     53\n",
       "588  192.168.50.51  192.168.50.255    137    137\n",
       "589  192.168.50.88         8.8.4.4  37704     53\n",
       "\n",
       "[590 rows x 4 columns]"
      ]
     },
     "execution_count": 8,
     "metadata": {},
     "output_type": "execute_result"
    }
   ],
   "source": [
    "df.head()\n",
    "df[['src','dst','sport','dport']]"
   ]
  },
  {
   "cell_type": "code",
   "execution_count": null,
   "metadata": {},
   "outputs": [],
   "source": []
  },
  {
   "cell_type": "code",
   "execution_count": null,
   "metadata": {},
   "outputs": [],
   "source": []
  }
 ],
 "metadata": {
  "kernelspec": {
   "display_name": "Python 3",
   "language": "python",
   "name": "python3"
  },
  "language_info": {
   "codemirror_mode": {
    "name": "ipython",
    "version": 3
   },
   "file_extension": ".py",
   "mimetype": "text/x-python",
   "name": "python",
   "nbconvert_exporter": "python",
   "pygments_lexer": "ipython3",
   "version": "3.8.5"
  }
 },
 "nbformat": 4,
 "nbformat_minor": 4
}
